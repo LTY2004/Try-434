{
  "cells": [
    {
      "cell_type": "markdown",
      "id": "353b928b",
      "metadata": {
        "id": "353b928b"
      },
      "source": [
        "# Lab 1: Data Analysis with HTRU2 Dataset\n",
        "\n",
        "**Author:** Linda Jin [YOURNAME]\n",
        "\n",
        "**Course:** Physics 434 - Data Analysis Lab  \n",
        "**Objective:** Learn statistical analysis, probability calculations, and data visualization using real pulsar survey data."
      ]
    },
    {
      "cell_type": "markdown",
      "id": "1ba63461",
      "metadata": {
        "id": "1ba63461"
      },
      "source": [
        "## Overview\n",
        "\n",
        "In this laboratory, we will:\n",
        "1. Set up git & GitHub for version control\n",
        "2. Analyze pulsar candidates from the High Time Resolution Universe Survey (HTRU2) dataset\n",
        "3. Practice statistical analysis and probability calculations\n",
        "4. Create data visualizations and interpret results\n",
        "\n",
        "**Key Learning Outcomes:**\n",
        "- Understanding of statistical distributions\n",
        "- Bayes' theorem application\n",
        "- Data visualization with histograms\n",
        "- Probability calculations with real data"
      ]
    },
    {
      "cell_type": "markdown",
      "id": "49620ef8",
      "metadata": {
        "id": "49620ef8"
      },
      "source": [
        "## Step 1: Import Required Libraries\n",
        "\n",
        "Import the necessary Python libraries for data analysis and visualization."
      ]
    },
    {
      "cell_type": "markdown",
      "id": "a5ffc5a4",
      "metadata": {
        "id": "a5ffc5a4"
      },
      "source": [
        "**TODO:** Import pandas, matplotlib.pyplot, numpy, and scipy.stats"
      ]
    },
    {
      "cell_type": "markdown",
      "id": "5a4c21b7",
      "metadata": {
        "id": "5a4c21b7"
      },
      "source": [
        "`COLAB` determines whether this notebook is running on Google Colab. If you're running locally, make sure to download all data in this work directory."
      ]
    },
    {
      "cell_type": "code",
      "execution_count": 1,
      "id": "82eb1216",
      "metadata": {
        "colab": {
          "base_uri": "https://localhost:8080/"
        },
        "id": "82eb1216",
        "outputId": "fd668149-6624-4866-f957-fe906a48f618"
      },
      "outputs": [
        {
          "name": "stdout",
          "output_type": "stream",
          "text": [
            "Cloning into 'Au25_Phys434_Data_Analysis_Lab'...\n",
            "remote: Enumerating objects: 10, done.\u001b[K\n",
            "remote: Counting objects: 100% (10/10), done.\u001b[K\n",
            "remote: Compressing objects: 100% (9/9), done.\u001b[K\n",
            "remote: Total 10 (delta 1), reused 7 (delta 1), pack-reused 0 (from 0)\u001b[K\n",
            "Receiving objects: 100% (10/10), 771.04 KiB | 4.33 MiB/s, done.\n",
            "Resolving deltas: 100% (1/1), done.\n",
            "/content/Au25_Phys434_Data_Analysis_Lab\n"
          ]
        }
      ],
      "source": [
        "COLAB = 'google.colab' in str(get_ipython())\n",
        "\n",
        "if COLAB:\n",
        "# clone github repo\n",
        "    !git clone --depth 1 https://github.com/Klinjin/Au25_Phys434_Data_Analysis_Lab.git\n",
        "    %cd Au25_Phys434_Data_Analysis_Lab/"
      ]
    },
    {
      "cell_type": "code",
      "execution_count": 5,
      "id": "91ba7889",
      "metadata": {
        "id": "91ba7889"
      },
      "outputs": [],
      "source": [
        "# TODO: Import the required libraries\n",
        "# Hint: You'll need pandas, matplotlib.pyplot, numpy, and scipy.stats\n",
        "\n",
        "# Your imports here:\n",
        "import pandas as pd\n",
        "import numpy as np\n",
        "import matplotlib.pyplot as plt\n",
        "from scipy import stats"
      ]
    },
    {
      "cell_type": "code",
      "execution_count": null,
      "id": "j09mV0ZBpwpJ",
      "metadata": {
        "id": "j09mV0ZBpwpJ"
      },
      "outputs": [],
      "source": []
    },
    {
      "cell_type": "markdown",
      "id": "f595f756",
      "metadata": {
        "id": "f595f756",
        "vscode": {
          "languageId": "plaintext"
        }
      },
      "source": [
        "## Step 2: Load and Explore the Dataset\n",
        "\n",
        "The HTRU2 dataset contains 17,898 pulsar candidates with 8 features each. The last column indicates the class:\n",
        "- **Class 0**: RFI/Noise (fake signals)\n",
        "- **Class 1**: Real pulsar signals\n",
        "\n",
        "**Features (first 4 are from integrated pulse profile):**\n",
        "1. Mean of the integrated profile\n",
        "2. Standard deviation of the integrated profile  \n",
        "3. Excess kurtosis of the integrated profile\n",
        "4. Skewness of the integrated profile\n",
        "5-8. Mean, std dev, excess kurtosis, and skewness of the DM-SNR curve"
      ]
    },
    {
      "cell_type": "markdown",
      "id": "onENPXzNpm-B",
      "metadata": {
        "id": "onENPXzNpm-B"
      },
      "source": []
    },
    {
      "cell_type": "markdown",
      "id": "0fee5a06",
      "metadata": {
        "id": "0fee5a06"
      },
      "source": [
        "**TODO:** Load the dataset and separate it into two classes"
      ]
    },
    {
      "cell_type": "code",
      "execution_count": null,
      "id": "3ddb9c89",
      "metadata": {
        "id": "3ddb9c89"
      },
      "outputs": [],
      "source": [
        "# Load the HTRU2 dataset\n",
        "# TODO: Read the CSV file using pandas\n",
        "\n",
        "# df = pd.read_csv(...)\n",
        "df = pd.read_csv(\"htru2/HTRU_2.csv\")\n",
        "\n",
        "\n",
        "# Separate the data into two classes based on the last column\n",
        "# TODO: Create class_0_data (RFI/Noise) and class_1_data (Real Pulsar)\n",
        "# Hint: Use boolean indexing with df.iloc[:, -1]\n",
        "\n",
        "noise_data  = df[df.iloc[:, -1] == 0]   # RFI/Noise\n",
        "pulsar_data = df[df.iloc[:, -1] == 1]   # Real Pulsar\n",
        "\n",
        "# pulsar_data =\n",
        "# noise_data =\n",
        "\n",
        "# Print the number of samples in each class\n",
        "# TODO: Print the lengths of both classes\n",
        "\n",
        "# Your code here:\n",
        "\n",
        "print(f\"Noise samples : {len(noise_data)}\")\n",
        "print(f\"Pulsar samples: {len(pulsar_data)}\")\n",
        "print(f\"Total samples : {len(df)}\")\n",
        "\n",
        "df.head()"
      ]
    },
    {
      "cell_type": "code",
      "execution_count": null,
      "id": "OylHZvj5rDOO",
      "metadata": {
        "colab": {
          "base_uri": "https://localhost:8080/",
          "height": 281
        },
        "id": "OylHZvj5rDOO",
        "outputId": "71e04170-0e5c-4b19-ce8d-77ef6fd28c1a"
      },
      "outputs": [
        {
          "name": "stdout",
          "output_type": "stream",
          "text": [
            "Noise samples : 16258\n",
            "Pulsar samples: 1639\n",
            "Total samples : 17897\n"
          ]
        },
        {
          "data": {
            "application/vnd.google.colaboratory.intrinsic+json": {
              "summary": "{\n  \"name\": \"df\",\n  \"rows\": 17897,\n  \"fields\": [\n    {\n      \"column\": \"140.5625\",\n      \"properties\": {\n        \"dtype\": \"number\",\n        \"std\": 25.652705341316047,\n        \"min\": 5.8125,\n        \"max\": 192.6171875,\n        \"num_unique_values\": 8625,\n        \"samples\": [\n          116.8671875,\n          126.9140625,\n          99.4375\n        ],\n        \"semantic_type\": \"\",\n        \"description\": \"\"\n      }\n    },\n    {\n      \"column\": \"55.68378214\",\n      \"properties\": {\n        \"dtype\": \"number\",\n        \"std\": 6.843039938240548,\n        \"min\": 24.77204176,\n        \"max\": 98.77891067,\n        \"num_unique_values\": 17861,\n        \"samples\": [\n          51.52972443,\n          46.37940551,\n          53.11199232\n        ],\n        \"semantic_type\": \"\",\n        \"description\": \"\"\n      }\n    },\n    {\n      \"column\": \"-0.234571412\",\n      \"properties\": {\n        \"dtype\": \"number\",\n        \"std\": 1.064056116723395,\n        \"min\": -1.876011181,\n        \"max\": 8.069522046,\n        \"num_unique_values\": 17896,\n        \"samples\": [\n          1.77634624,\n          2.02549836,\n          0.504295246\n        ],\n        \"semantic_type\": \"\",\n        \"description\": \"\"\n      }\n    },\n    {\n      \"column\": \"-0.699648398\",\n      \"properties\": {\n        \"dtype\": \"number\",\n        \"std\": 6.168057937053562,\n        \"min\": -1.791885981,\n        \"max\": 68.10162173,\n        \"num_unique_values\": 17897,\n        \"samples\": [\n          2.47571452,\n          0.219506564,\n          -0.380045294\n        ],\n        \"semantic_type\": \"\",\n        \"description\": \"\"\n      }\n    },\n    {\n      \"column\": \"3.199832776\",\n      \"properties\": {\n        \"dtype\": \"number\",\n        \"std\": 29.473636563606572,\n        \"min\": 0.213210702,\n        \"max\": 223.3921405,\n        \"num_unique_values\": 9000,\n        \"samples\": [\n          3.387123746,\n          1.977424749,\n          2.35367893\n        ],\n        \"semantic_type\": \"\",\n        \"description\": \"\"\n      }\n    },\n    {\n      \"column\": \"19.11042633\",\n      \"properties\": {\n        \"dtype\": \"number\",\n        \"std\": 19.471041592639292,\n        \"min\": 7.370432165,\n        \"max\": 110.6422106,\n        \"num_unique_values\": 17893,\n        \"samples\": [\n          14.07674516,\n          12.4271091,\n          18.33713742\n        ],\n        \"semantic_type\": \"\",\n        \"description\": \"\"\n      }\n    },\n    {\n      \"column\": \"7.975531794\",\n      \"properties\": {\n        \"dtype\": \"number\",\n        \"std\": 4.506217086682427,\n        \"min\": -3.139269611,\n        \"max\": 34.53984419,\n        \"num_unique_values\": 17894,\n        \"samples\": [\n          13.19715285,\n          12.29020608,\n          16.88726924\n        ],\n        \"semantic_type\": \"\",\n        \"description\": \"\"\n      }\n    },\n    {\n      \"column\": \"74.24222492\",\n      \"properties\": {\n        \"dtype\": \"number\",\n        \"std\": 106.51726955770681,\n        \"min\": -1.976975603,\n        \"max\": 1191.000837,\n        \"num_unique_values\": 17894,\n        \"samples\": [\n          192.3290727,\n          222.052225,\n          329.7478651\n        ],\n        \"semantic_type\": \"\",\n        \"description\": \"\"\n      }\n    },\n    {\n      \"column\": \"0\",\n      \"properties\": {\n        \"dtype\": \"number\",\n        \"std\": 0,\n        \"min\": 0,\n        \"max\": 1,\n        \"num_unique_values\": 2,\n        \"samples\": [\n          1,\n          0\n        ],\n        \"semantic_type\": \"\",\n        \"description\": \"\"\n      }\n    }\n  ]\n}",
              "type": "dataframe",
              "variable_name": "df"
            },
            "text/html": [
              "\n",
              "  <div id=\"df-8cb2a73e-e3d8-464a-ad76-613669402f4e\" class=\"colab-df-container\">\n",
              "    <div>\n",
              "<style scoped>\n",
              "    .dataframe tbody tr th:only-of-type {\n",
              "        vertical-align: middle;\n",
              "    }\n",
              "\n",
              "    .dataframe tbody tr th {\n",
              "        vertical-align: top;\n",
              "    }\n",
              "\n",
              "    .dataframe thead th {\n",
              "        text-align: right;\n",
              "    }\n",
              "</style>\n",
              "<table border=\"1\" class=\"dataframe\">\n",
              "  <thead>\n",
              "    <tr style=\"text-align: right;\">\n",
              "      <th></th>\n",
              "      <th>140.5625</th>\n",
              "      <th>55.68378214</th>\n",
              "      <th>-0.234571412</th>\n",
              "      <th>-0.699648398</th>\n",
              "      <th>3.199832776</th>\n",
              "      <th>19.11042633</th>\n",
              "      <th>7.975531794</th>\n",
              "      <th>74.24222492</th>\n",
              "      <th>0</th>\n",
              "    </tr>\n",
              "  </thead>\n",
              "  <tbody>\n",
              "    <tr>\n",
              "      <th>0</th>\n",
              "      <td>102.507812</td>\n",
              "      <td>58.882430</td>\n",
              "      <td>0.465318</td>\n",
              "      <td>-0.515088</td>\n",
              "      <td>1.677258</td>\n",
              "      <td>14.860146</td>\n",
              "      <td>10.576487</td>\n",
              "      <td>127.393580</td>\n",
              "      <td>0</td>\n",
              "    </tr>\n",
              "    <tr>\n",
              "      <th>1</th>\n",
              "      <td>103.015625</td>\n",
              "      <td>39.341649</td>\n",
              "      <td>0.323328</td>\n",
              "      <td>1.051164</td>\n",
              "      <td>3.121237</td>\n",
              "      <td>21.744669</td>\n",
              "      <td>7.735822</td>\n",
              "      <td>63.171909</td>\n",
              "      <td>0</td>\n",
              "    </tr>\n",
              "    <tr>\n",
              "      <th>2</th>\n",
              "      <td>136.750000</td>\n",
              "      <td>57.178449</td>\n",
              "      <td>-0.068415</td>\n",
              "      <td>-0.636238</td>\n",
              "      <td>3.642977</td>\n",
              "      <td>20.959280</td>\n",
              "      <td>6.896499</td>\n",
              "      <td>53.593661</td>\n",
              "      <td>0</td>\n",
              "    </tr>\n",
              "    <tr>\n",
              "      <th>3</th>\n",
              "      <td>88.726562</td>\n",
              "      <td>40.672225</td>\n",
              "      <td>0.600866</td>\n",
              "      <td>1.123492</td>\n",
              "      <td>1.178930</td>\n",
              "      <td>11.468720</td>\n",
              "      <td>14.269573</td>\n",
              "      <td>252.567306</td>\n",
              "      <td>0</td>\n",
              "    </tr>\n",
              "    <tr>\n",
              "      <th>4</th>\n",
              "      <td>93.570312</td>\n",
              "      <td>46.698114</td>\n",
              "      <td>0.531905</td>\n",
              "      <td>0.416721</td>\n",
              "      <td>1.636288</td>\n",
              "      <td>14.545074</td>\n",
              "      <td>10.621748</td>\n",
              "      <td>131.394004</td>\n",
              "      <td>0</td>\n",
              "    </tr>\n",
              "  </tbody>\n",
              "</table>\n",
              "</div>\n",
              "    <div class=\"colab-df-buttons\">\n",
              "\n",
              "  <div class=\"colab-df-container\">\n",
              "    <button class=\"colab-df-convert\" onclick=\"convertToInteractive('df-8cb2a73e-e3d8-464a-ad76-613669402f4e')\"\n",
              "            title=\"Convert this dataframe to an interactive table.\"\n",
              "            style=\"display:none;\">\n",
              "\n",
              "  <svg xmlns=\"http://www.w3.org/2000/svg\" height=\"24px\" viewBox=\"0 -960 960 960\">\n",
              "    <path d=\"M120-120v-720h720v720H120Zm60-500h600v-160H180v160Zm220 220h160v-160H400v160Zm0 220h160v-160H400v160ZM180-400h160v-160H180v160Zm440 0h160v-160H620v160ZM180-180h160v-160H180v160Zm440 0h160v-160H620v160Z\"/>\n",
              "  </svg>\n",
              "    </button>\n",
              "\n",
              "  <style>\n",
              "    .colab-df-container {\n",
              "      display:flex;\n",
              "      gap: 12px;\n",
              "    }\n",
              "\n",
              "    .colab-df-convert {\n",
              "      background-color: #E8F0FE;\n",
              "      border: none;\n",
              "      border-radius: 50%;\n",
              "      cursor: pointer;\n",
              "      display: none;\n",
              "      fill: #1967D2;\n",
              "      height: 32px;\n",
              "      padding: 0 0 0 0;\n",
              "      width: 32px;\n",
              "    }\n",
              "\n",
              "    .colab-df-convert:hover {\n",
              "      background-color: #E2EBFA;\n",
              "      box-shadow: 0px 1px 2px rgba(60, 64, 67, 0.3), 0px 1px 3px 1px rgba(60, 64, 67, 0.15);\n",
              "      fill: #174EA6;\n",
              "    }\n",
              "\n",
              "    .colab-df-buttons div {\n",
              "      margin-bottom: 4px;\n",
              "    }\n",
              "\n",
              "    [theme=dark] .colab-df-convert {\n",
              "      background-color: #3B4455;\n",
              "      fill: #D2E3FC;\n",
              "    }\n",
              "\n",
              "    [theme=dark] .colab-df-convert:hover {\n",
              "      background-color: #434B5C;\n",
              "      box-shadow: 0px 1px 3px 1px rgba(0, 0, 0, 0.15);\n",
              "      filter: drop-shadow(0px 1px 2px rgba(0, 0, 0, 0.3));\n",
              "      fill: #FFFFFF;\n",
              "    }\n",
              "  </style>\n",
              "\n",
              "    <script>\n",
              "      const buttonEl =\n",
              "        document.querySelector('#df-8cb2a73e-e3d8-464a-ad76-613669402f4e button.colab-df-convert');\n",
              "      buttonEl.style.display =\n",
              "        google.colab.kernel.accessAllowed ? 'block' : 'none';\n",
              "\n",
              "      async function convertToInteractive(key) {\n",
              "        const element = document.querySelector('#df-8cb2a73e-e3d8-464a-ad76-613669402f4e');\n",
              "        const dataTable =\n",
              "          await google.colab.kernel.invokeFunction('convertToInteractive',\n",
              "                                                    [key], {});\n",
              "        if (!dataTable) return;\n",
              "\n",
              "        const docLinkHtml = 'Like what you see? Visit the ' +\n",
              "          '<a target=\"_blank\" href=https://colab.research.google.com/notebooks/data_table.ipynb>data table notebook</a>'\n",
              "          + ' to learn more about interactive tables.';\n",
              "        element.innerHTML = '';\n",
              "        dataTable['output_type'] = 'display_data';\n",
              "        await google.colab.output.renderOutput(dataTable, element);\n",
              "        const docLink = document.createElement('div');\n",
              "        docLink.innerHTML = docLinkHtml;\n",
              "        element.appendChild(docLink);\n",
              "      }\n",
              "    </script>\n",
              "  </div>\n",
              "\n",
              "\n",
              "    <div id=\"df-9725a4f8-c5df-482c-b149-caf95bea1847\">\n",
              "      <button class=\"colab-df-quickchart\" onclick=\"quickchart('df-9725a4f8-c5df-482c-b149-caf95bea1847')\"\n",
              "                title=\"Suggest charts\"\n",
              "                style=\"display:none;\">\n",
              "\n",
              "<svg xmlns=\"http://www.w3.org/2000/svg\" height=\"24px\"viewBox=\"0 0 24 24\"\n",
              "     width=\"24px\">\n",
              "    <g>\n",
              "        <path d=\"M19 3H5c-1.1 0-2 .9-2 2v14c0 1.1.9 2 2 2h14c1.1 0 2-.9 2-2V5c0-1.1-.9-2-2-2zM9 17H7v-7h2v7zm4 0h-2V7h2v10zm4 0h-2v-4h2v4z\"/>\n",
              "    </g>\n",
              "</svg>\n",
              "      </button>\n",
              "\n",
              "<style>\n",
              "  .colab-df-quickchart {\n",
              "      --bg-color: #E8F0FE;\n",
              "      --fill-color: #1967D2;\n",
              "      --hover-bg-color: #E2EBFA;\n",
              "      --hover-fill-color: #174EA6;\n",
              "      --disabled-fill-color: #AAA;\n",
              "      --disabled-bg-color: #DDD;\n",
              "  }\n",
              "\n",
              "  [theme=dark] .colab-df-quickchart {\n",
              "      --bg-color: #3B4455;\n",
              "      --fill-color: #D2E3FC;\n",
              "      --hover-bg-color: #434B5C;\n",
              "      --hover-fill-color: #FFFFFF;\n",
              "      --disabled-bg-color: #3B4455;\n",
              "      --disabled-fill-color: #666;\n",
              "  }\n",
              "\n",
              "  .colab-df-quickchart {\n",
              "    background-color: var(--bg-color);\n",
              "    border: none;\n",
              "    border-radius: 50%;\n",
              "    cursor: pointer;\n",
              "    display: none;\n",
              "    fill: var(--fill-color);\n",
              "    height: 32px;\n",
              "    padding: 0;\n",
              "    width: 32px;\n",
              "  }\n",
              "\n",
              "  .colab-df-quickchart:hover {\n",
              "    background-color: var(--hover-bg-color);\n",
              "    box-shadow: 0 1px 2px rgba(60, 64, 67, 0.3), 0 1px 3px 1px rgba(60, 64, 67, 0.15);\n",
              "    fill: var(--button-hover-fill-color);\n",
              "  }\n",
              "\n",
              "  .colab-df-quickchart-complete:disabled,\n",
              "  .colab-df-quickchart-complete:disabled:hover {\n",
              "    background-color: var(--disabled-bg-color);\n",
              "    fill: var(--disabled-fill-color);\n",
              "    box-shadow: none;\n",
              "  }\n",
              "\n",
              "  .colab-df-spinner {\n",
              "    border: 2px solid var(--fill-color);\n",
              "    border-color: transparent;\n",
              "    border-bottom-color: var(--fill-color);\n",
              "    animation:\n",
              "      spin 1s steps(1) infinite;\n",
              "  }\n",
              "\n",
              "  @keyframes spin {\n",
              "    0% {\n",
              "      border-color: transparent;\n",
              "      border-bottom-color: var(--fill-color);\n",
              "      border-left-color: var(--fill-color);\n",
              "    }\n",
              "    20% {\n",
              "      border-color: transparent;\n",
              "      border-left-color: var(--fill-color);\n",
              "      border-top-color: var(--fill-color);\n",
              "    }\n",
              "    30% {\n",
              "      border-color: transparent;\n",
              "      border-left-color: var(--fill-color);\n",
              "      border-top-color: var(--fill-color);\n",
              "      border-right-color: var(--fill-color);\n",
              "    }\n",
              "    40% {\n",
              "      border-color: transparent;\n",
              "      border-right-color: var(--fill-color);\n",
              "      border-top-color: var(--fill-color);\n",
              "    }\n",
              "    60% {\n",
              "      border-color: transparent;\n",
              "      border-right-color: var(--fill-color);\n",
              "    }\n",
              "    80% {\n",
              "      border-color: transparent;\n",
              "      border-right-color: var(--fill-color);\n",
              "      border-bottom-color: var(--fill-color);\n",
              "    }\n",
              "    90% {\n",
              "      border-color: transparent;\n",
              "      border-bottom-color: var(--fill-color);\n",
              "    }\n",
              "  }\n",
              "</style>\n",
              "\n",
              "      <script>\n",
              "        async function quickchart(key) {\n",
              "          const quickchartButtonEl =\n",
              "            document.querySelector('#' + key + ' button');\n",
              "          quickchartButtonEl.disabled = true;  // To prevent multiple clicks.\n",
              "          quickchartButtonEl.classList.add('colab-df-spinner');\n",
              "          try {\n",
              "            const charts = await google.colab.kernel.invokeFunction(\n",
              "                'suggestCharts', [key], {});\n",
              "          } catch (error) {\n",
              "            console.error('Error during call to suggestCharts:', error);\n",
              "          }\n",
              "          quickchartButtonEl.classList.remove('colab-df-spinner');\n",
              "          quickchartButtonEl.classList.add('colab-df-quickchart-complete');\n",
              "        }\n",
              "        (() => {\n",
              "          let quickchartButtonEl =\n",
              "            document.querySelector('#df-9725a4f8-c5df-482c-b149-caf95bea1847 button');\n",
              "          quickchartButtonEl.style.display =\n",
              "            google.colab.kernel.accessAllowed ? 'block' : 'none';\n",
              "        })();\n",
              "      </script>\n",
              "    </div>\n",
              "\n",
              "    </div>\n",
              "  </div>\n"
            ],
            "text/plain": [
              "     140.5625  55.68378214  -0.234571412  -0.699648398  3.199832776  \\\n",
              "0  102.507812    58.882430      0.465318     -0.515088     1.677258   \n",
              "1  103.015625    39.341649      0.323328      1.051164     3.121237   \n",
              "2  136.750000    57.178449     -0.068415     -0.636238     3.642977   \n",
              "3   88.726562    40.672225      0.600866      1.123492     1.178930   \n",
              "4   93.570312    46.698114      0.531905      0.416721     1.636288   \n",
              "\n",
              "   19.11042633  7.975531794  74.24222492  0  \n",
              "0    14.860146    10.576487   127.393580  0  \n",
              "1    21.744669     7.735822    63.171909  0  \n",
              "2    20.959280     6.896499    53.593661  0  \n",
              "3    11.468720    14.269573   252.567306  0  \n",
              "4    14.545074    10.621748   131.394004  0  "
            ]
          },
          "execution_count": 14,
          "metadata": {},
          "output_type": "execute_result"
        }
      ],
      "source": [
        "\n",
        "\n",
        "\n",
        "\n",
        "\n"
      ]
    },
    {
      "cell_type": "markdown",
      "id": "32de45e4",
      "metadata": {
        "id": "32de45e4"
      },
      "source": [
        "## Step 3: Feature Analysis and Visualization\n",
        "\n",
        "**Objective:** Compare the distribution of features between RFI/noise and real pulsar signals.\n",
        "\n",
        "**Requirements:**\n",
        "- Create histograms for each feature (focus on the first 4 features from integrated pulse profile)\n",
        "- Plot both classes on the same graph with different colors and line styles\n",
        "- Normalize histograms so the area equals 1 (use `density=True`)\n",
        "- Use the same bin ranges and widths for fair comparison\n",
        "- Include mean and standard deviation in legends\n",
        "- Proper axis labels and titles"
      ]
    },
    {
      "cell_type": "markdown",
      "id": "e243f65b",
      "metadata": {
        "id": "e243f65b"
      },
      "source": [
        "**TODO:** Create histograms comparing the two classes for each feature"
      ]
    },
    {
      "cell_type": "code",
      "execution_count": null,
      "id": "84c2f0f5",
      "metadata": {
        "colab": {
          "base_uri": "https://localhost:8080/",
          "height": 1000
        },
        "id": "84c2f0f5",
        "outputId": "c769a4ea-3938-4508-fef9-3a2ec24cb436"
      },
      "outputs": [
        {
          "data": {
            "image/png": "[encoded data removed]",
            "text/plain": [
              "<Figure size 1000x600 with 1 Axes>"
            ]
          },
          "metadata": {},
          "output_type": "display_data"
        },
        {
          "data": {
            "image/png": "[encoded data removed]",
            "text/plain": [
              "<Figure size 1000x600 with 1 Axes>"
            ]
          },
          "metadata": {},
          "output_type": "display_data"
        },
        {
          "data": {
            "image/png": "[encoded data removed]",
            "text/plain": [
              "<Figure size 1000x600 with 1 Axes>"
            ]
          },
          "metadata": {},
          "output_type": "display_data"
        },
        {
          "data": {
            "image/png": "[encoded data removed]",
            "text/plain": [
              "<Figure size 1000x600 with 1 Axes>"
            ]
          },
          "metadata": {},
          "output_type": "display_data"
        }
      ],
      "source": [
        "# Create histograms for the first 4 features (integrated pulse profile features)\n",
        "# TODO: Loop through the first 4 columns of the dataset\n",
        "\n",
        "# for i, feature_name in enumerate(df.columns): noise_feature = noise_data[feature_name]\n",
        "#     noise_feature = noise_data[feature_name]\n",
        "#     pulsar_feature = pulsar_data[feature_name]\n",
        "#\n",
        "#     # Create figure\n",
        "#     fig, ax = plt.subplots(figsize=(10, 6))\n",
        "#     ax.hist(noise_feature ...\n",
        "#     ax.hist(pulsar_feature ...\n",
        "#     ax.set_title(f\"Histogram of {feature_name}\")\n",
        "#     ax.set_xlabel(\"Value\")\n",
        "#     ax.set_ylabel(\"Frequency\")\n",
        "#     ax.legend()\n",
        "#     plt.show()\n",
        "\n",
        "\n",
        "\n",
        "# Your code here\n",
        "# Create histograms for the first 4 features (integrated pulse profile features)\n",
        "# Loop through the first 4 columns of the dataset\n",
        "\n",
        "for i, feature_name in enumerate(df.columns[:4]):\n",
        "    noise_feature = noise_data[feature_name]\n",
        "    pulsar_feature = pulsar_data[feature_name]\n",
        "\n",
        "    # Create common bins for both classes\n",
        "    combined = np.concatenate([noise_feature.values, pulsar_feature.values])\n",
        "    bins = np.linspace(combined.min(), combined.max(), 40)\n",
        "\n",
        "    # Calculate mean and standard deviation\n",
        "    mu_noise, sd_noise = noise_feature.mean(), noise_feature.std(ddof=1)\n",
        "    mu_pulsar, sd_pulsar = pulsar_feature.mean(), pulsar_feature.std(ddof=1)\n",
        "\n",
        "    # Create figure\n",
        "    fig, ax = plt.subplots(figsize=(10, 6))\n",
        "    ax.hist(noise_feature, bins=bins, density=True, alpha=0.5,\n",
        "            label=f\"Noise (μ={mu_noise:.2f}, σ={sd_noise:.2f})\")\n",
        "    ax.hist(pulsar_feature, bins=bins, density=True, histtype='step',\n",
        "            linewidth=2, linestyle='-',\n",
        "            label=f\"Pulsar (μ={mu_pulsar:.2f}, σ={sd_pulsar:.2f})\")\n",
        "\n",
        "    ax.set_title(f\"Histogram of {feature_name}\")\n",
        "    ax.set_xlabel(\"Value\")\n",
        "    ax.set_ylabel(\"Density\")\n",
        "    ax.legend()\n",
        "    plt.show()\n"
      ]
    },
    {
      "cell_type": "markdown",
      "id": "d98fce6a",
      "metadata": {
        "id": "d98fce6a"
      },
      "source": [
        "## Step 4: Probability Calculations\n",
        "\n",
        "**Objective:** Calculate basic probabilities and apply Bayes' theorem.\n",
        "\n",
        "**Define Events:**\n",
        "- **Event A:** An observation is a pulsar candidate (class = 1)\n",
        "- **Event B:** Mean of the integrated profile < 80\n",
        "\n",
        "**Calculate the following probabilities:**\n",
        "1. P(A) - Probability that a randomly chosen observation is a real pulsar\n",
        "2. P(B) - Probability that mean of integrated profile < 80\n",
        "3. P(A ∩ B) - Probability that both conditions are satisfied"
      ]
    },
    {
      "cell_type": "markdown",
      "id": "0166bbdc",
      "metadata": {
        "id": "0166bbdc"
      },
      "source": [
        "**TODO:** Calculate the three basic probabilities"
      ]
    },
    {
      "cell_type": "code",
      "execution_count": 18,
      "id": "7b3cd167",
      "metadata": {
        "colab": {
          "base_uri": "https://localhost:8080/"
        },
        "id": "7b3cd167",
        "outputId": "cbae30de-bf1c-42e2-edcf-ea2d869d2cef"
      },
      "outputs": [
        {
          "name": "stdout",
          "output_type": "stream",
          "text": [
            "P(A) =  0.09157959434542103\n",
            "P(B) =  0.08627144214114098\n",
            "P(A ∩ B) =  0.0690059786556406\n"
          ]
        }
      ],
      "source": [
        "# Calculate P(A): Probability that an observation is a pulsar candidate\n",
        "# TODO: Calculate the ratio of class 1 samples to total samples\n",
        "pulsar_probability = (df.iloc[:, -1] == 1).sum() / len(df)\n",
        "\n",
        "print(\"P(A) = \", pulsar_probability)\n",
        "\n",
        "# Calculate P(B): Probability that mean of integrated profile < 80\n",
        "# TODO: Count how many samples have the first feature < 80\n",
        "# Hint: Use boolean indexing on df.iloc[:, 0] < 80\n",
        "count_less_than_80 = (df.iloc[:, 0] < 80).sum()\n",
        "prob_less_than_80 = count_less_than_80 / len(df)\n",
        "\n",
        "print(\"P(B) = \", prob_less_than_80)\n",
        "\n",
        "# Calculate P(A ∩ B): Probability that both conditions are satisfied\n",
        "# TODO: Count samples that are both class 1 AND have first feature < 80\n",
        "# Hint: Filter class_1_data where first column < 80\n",
        "prob_both_conditions = ((df.iloc[:, -1] == 1) & (df.iloc[:, 0] < 80)).sum() / len(df)\n",
        "\n",
        "print(\"P(A ∩ B) = \", prob_both_conditions)\n",
        "\n",
        "# Your code here:\n",
        "P_A = (df.iloc[:, -1] == 1).sum() / len(df)\n",
        "P_B = (df.iloc[:, 0] < 80).sum() / len(df)\n",
        "P_AB = ((df.iloc[:, -1] == 1) & (df.iloc[:, 0] < 80)).sum() / len(df)"
      ]
    },
    {
      "cell_type": "markdown",
      "id": "754e6ebf",
      "metadata": {
        "id": "754e6ebf"
      },
      "source": [
        "## Step 5: Conditional Probabilities (Bayes' Theorem)\n",
        "\n",
        "**Objective:** Calculate conditional probabilities using Bayes' theorem.\n",
        "\n",
        "**Bayes' Theorem Formula:**\n",
        "$$P(A|B) = \\frac{P(A \\cap B)}{P(B)}$$\n",
        "\n",
        "**Calculate:**\n",
        "1. **P(A|B)**: Given that mean of integrated profile < 80, what's the probability it's a real pulsar?\n",
        "2. **P(B|A)**: Given that it's a real pulsar, what's the probability that mean < 80?"
      ]
    },
    {
      "cell_type": "markdown",
      "id": "6eab444a",
      "metadata": {
        "id": "6eab444a"
      },
      "source": [
        "**TODO:** Apply Bayes' theorem to calculate conditional probabilities"
      ]
    },
    {
      "cell_type": "code",
      "execution_count": 19,
      "id": "26fd1ea4",
      "metadata": {
        "colab": {
          "base_uri": "https://localhost:8080/"
        },
        "id": "26fd1ea4",
        "outputId": "1848b221-b406-4066-8af6-b4d525fc45bd"
      },
      "outputs": [
        {
          "name": "stdout",
          "output_type": "stream",
          "text": [
            "P(A | B) = P(A ∩ B) / P(B) =  0.7998704663212435\n",
            "P(B | A) = P(A ∩ B) / P(A) =  0.7535082367297131\n"
          ]
        }
      ],
      "source": [
        "# Apply Bayes' theorem to calculate conditional probabilities\n",
        "\n",
        "# TODO: Calculate P(A|B) = P(A ∩ B) / P(B)\n",
        "# This answers: \"Given mean < 80, what's the probability it's a real pulsar?\"\n",
        "conditional_prob_A_given_B = P_AB / P_B\n",
        "\n",
        "print('P(A | B) = P(A ∩ B) / P(B) = ', conditional_prob_A_given_B)\n",
        "\n",
        "# TODO: Calculate P(B|A) = P(A ∩ B) / P(A)\n",
        "# This answers: \"Given it's a real pulsar, what's the probability that mean < 80?\"\n",
        "conditional_prob_B_given_A = P_AB / P_A\n",
        "\n",
        "print('P(B | A) = P(A ∩ B) / P(A) = ', conditional_prob_B_given_A)\n",
        "\n",
        "# Your code here:\n"
      ]
    },
    {
      "cell_type": "markdown",
      "id": "218e48c8",
      "metadata": {
        "id": "218e48c8"
      },
      "source": [
        "## Step 6: Standard Normal Distribution Analysis\n",
        "\n",
        "**Objective:** Understand different types of probabilities for the standard normal distribution.\n",
        "\n",
        "**Background:**\n",
        "The standard normal distribution (Z) has mean = 0 and standard deviation = 1.\n",
        "For any Z-score, we can calculate:\n",
        "1. **Cumulative probability (CDF)**: P(Z ≤ z) - probability below z\n",
        "2. **Cumulative from mean**: P(0 ≤ Z ≤ z) - probability between mean and z  \n",
        "3. **Complementary cumulative**: P(Z > z) - probability above z\n",
        "\n",
        "**Formula:** If X ~ N(μ, σ²), then Z = (X - μ)/σ"
      ]
    },
    {
      "cell_type": "markdown",
      "id": "4afb6c87",
      "metadata": {
        "id": "4afb6c87"
      },
      "source": [
        "**TODO:** Calculate probabilities for different Z-values"
      ]
    },
    {
      "cell_type": "code",
      "execution_count": 20,
      "id": "6933f483",
      "metadata": {
        "colab": {
          "base_uri": "https://localhost:8080/"
        },
        "id": "6933f483",
        "outputId": "8f31fdcd-6424-41b4-b544-ccd30a586fa2"
      },
      "outputs": [
        {
          "name": "stdout",
          "output_type": "stream",
          "text": [
            "Z = 1:\n",
            "  Cumulative Probability (CDF) = 0.841345\n",
            "  Cumulative Probability from Mean = 0.341345\n",
            "  Complementary Cumulative Probability (1 - CDF) = 0.158655\n",
            "\n",
            "Z = 3:\n",
            "  Cumulative Probability (CDF) = 0.998650\n",
            "  Cumulative Probability from Mean = 0.498650\n",
            "  Complementary Cumulative Probability (1 - CDF) = 0.001350\n",
            "\n",
            "Z = 5:\n",
            "  Cumulative Probability (CDF) = 1.000000\n",
            "  Cumulative Probability from Mean = 0.500000\n",
            "  Complementary Cumulative Probability (1 - CDF) = 0.000000\n",
            "\n"
          ]
        }
      ],
      "source": [
        "from scipy.stats import norm\n",
        "\n",
        "# Define Z-values to analyze\n",
        "Z_values = [1, 3, 5]\n",
        "\n",
        "# Create an empty list to store results\n",
        "results = []\n",
        "\n",
        "# Loop through each Z value and calculate probabilities\n",
        "for Z in Z_values:\n",
        "    # 1. CDF: Cumulative probability P(Z <= z)\n",
        "    CDF = norm.cdf(Z)\n",
        "\n",
        "    # 2. Cumulative from mean: P(0 <= Z <= z) = CDF - 0.5\n",
        "    cumulative_prob_from_mean = CDF - 0.5\n",
        "\n",
        "    # 3. Complementary CDF: P(Z > z) = 1 - CDF\n",
        "    complementary_CDF = 1 - CDF\n",
        "\n",
        "    # Append results to list\n",
        "    results.append((Z, CDF, cumulative_prob_from_mean, complementary_CDF))\n",
        "\n",
        "# Print results in a formatted way\n",
        "for Z, CDF, cumulative_prob_from_mean, complementary_CDF in results:\n",
        "    print(f\"Z = {Z}:\")\n",
        "    print(f\"  Cumulative Probability (CDF) = {CDF:.6f}\")\n",
        "    print(f\"  Cumulative Probability from Mean = {cumulative_prob_from_mean:.6f}\")\n",
        "    print(f\"  Complementary Cumulative Probability (1 - CDF) = {complementary_CDF:.6f}\\n\")\n"
      ]
    },
    {
      "cell_type": "markdown",
      "id": "c4885954",
      "metadata": {
        "id": "c4885954"
      },
      "source": [
        "## Step 7: Bonus - p-value Calculation\n",
        "\n",
        "**Challenge:** Calculate the p-value for Z = 5.9\n",
        "\n",
        "**p-value definition:** The probability of obtaining a result at least as extreme as the observed result, assuming the null hypothesis is true. For a Z-score, this is typically P(Z > |z|) for a two-tailed test or P(Z > z) for a one-tailed test."
      ]
    },
    {
      "cell_type": "code",
      "execution_count": null,
      "id": "8c4fbae2",
      "metadata": {
        "colab": {
          "base_uri": "https://localhost:8080/"
        },
        "id": "8c4fbae2",
        "outputId": "27110633-4abd-488c-ccc3-0e1b4309ad52"
      },
      "outputs": [
        {
          "name": "stdout",
          "output_type": "stream",
          "text": [
            "p-value (CDF for Z=5.9): 1.8175078109194942e-09\n"
          ]
        }
      ],
      "source": [
        "# Calculate p-value for Z = 5.9\n",
        "# TODO: Calculate the CDF for Z = 5.9\n",
        "# This gives us the probability P(Z <= 5.9)\n",
        "\n",
        "# p_val =\n",
        "\n",
        "#print(\"p-value (CDF for Z=5.9):\", p_val)\n",
        "\n",
        "# Note: This is an extremely small probability, indicating a very rare event\n",
        "# Your code here:\n",
        "from scipy.stats import norm\n",
        "\n",
        "Z = 5.9\n",
        "\n",
        "# CDF for Z = 5.9 → P(Z ≤ 5.9)\n",
        "cdf_val = norm.cdf(Z)\n",
        "\n",
        "# p-value P(Z > 5.9)\n",
        "p_val = 1 - cdf_val\n",
        "print(\"p-value (CDF for Z=5.9):\", p_val)"
      ]
    },
    {
      "cell_type": "markdown",
      "id": "7a4a8cfd",
      "metadata": {
        "id": "7a4a8cfd"
      },
      "source": [
        "## Summary and Reflection Questions\n",
        "\n",
        "**After completing this lab, you should be able to:**\n",
        "1. Load and manipulate datasets using pandas\n",
        "2. Create comparative histograms for data analysis\n",
        "3. Calculate basic and conditional probabilities\n",
        "4. Apply Bayes' theorem to real-world problems\n",
        "5. Understand different types of probabilities in normal distributions\n",
        "\n",
        "**Discussion Questions:**\n",
        "1. Which features show the clearest separation between noise and real pulsars?\n",
        "2. What does the conditional probability P(A|B) tell us about the relationship between pulsar classification and the mean integrated profile?\n",
        "3. How do the three types of Z-score probabilities relate to different research questions?\n",
        "4. What would you conclude about the practical significance of a Z-score of 5.9?\n",
        "\n",
        "**Next Steps:**\n",
        "- Commit your completed notebook to your GitHub repository\n",
        "- Compare your results with your lab partner\n",
        "- Prepare to discuss your findings in the next class"
      ]
    }
  ],
  "metadata": {
    "colab": {
      "provenance": []
    },
    "kernelspec": {
      "display_name": "phys",
      "language": "python",
      "name": "python3"
    },
    "language_info": {
      "codemirror_mode": {
        "name": "ipython",
        "version": 3
      },
      "file_extension": ".py",
      "mimetype": "text/x-python",
      "name": "python",
      "nbconvert_exporter": "python",
      "pygments_lexer": "ipython3",
      "version": "3.12.0"
    }
  },
  "nbformat": 4,
  "nbformat_minor": 5
}
